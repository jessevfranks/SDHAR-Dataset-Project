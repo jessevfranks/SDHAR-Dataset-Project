{
 "cells": [
  {
   "cell_type": "code",
   "id": "initial_id",
   "metadata": {
    "collapsed": true,
    "ExecuteTime": {
     "end_time": "2025-10-17T16:08:08.706976Z",
     "start_time": "2025-10-17T16:08:02.921130Z"
    }
   },
   "source": [
    "import pandas as pd\n",
    "\n",
    "df = pd.read_csv(\"../processed_data/final_processed_data_ALL_DAYS.csv\")\n",
    "print(f\"The full dataset has {df.shape[0]} rows and {df.shape[1]} columns.\")\n",
    "print(df.nunique())"
   ],
   "outputs": [
    {
     "name": "stdout",
     "output_type": "stream",
     "text": [
      "The full dataset has 2664474 rows and 43 columns.\n",
      "activity_user_1       18\n",
      "activity_user_2       18\n",
      "c1                     2\n",
      "c2                     2\n",
      "c3                     2\n",
      "c4                     2\n",
      "c5                     2\n",
      "c6                     2\n",
      "c7                     2\n",
      "c8                     2\n",
      "l1                    41\n",
      "l2                   239\n",
      "m1                     2\n",
      "m2                     2\n",
      "m3                     2\n",
      "m4                     2\n",
      "m5                     2\n",
      "m6                     2\n",
      "m7                     2\n",
      "m8                     2\n",
      "p1                   372\n",
      "p2                   586\n",
      "user1_state            7\n",
      "user1_distance       482\n",
      "user2_state            7\n",
      "user2_distance       490\n",
      "h1                  2397\n",
      "t1                   600\n",
      "h2                  1837\n",
      "t2                   771\n",
      "v1                     3\n",
      "v10                    2\n",
      "v11                    4\n",
      "v2                     3\n",
      "v3                     4\n",
      "v4                     4\n",
      "v5                     3\n",
      "v6                     4\n",
      "v7                     4\n",
      "v8                     3\n",
      "v9                     2\n",
      "sin_time           36275\n",
      "cos_time           37194\n",
      "dtype: int64\n"
     ]
    }
   ],
   "execution_count": 2
  }
 ],
 "metadata": {
  "kernelspec": {
   "display_name": "Python 3",
   "language": "python",
   "name": "python3"
  },
  "language_info": {
   "codemirror_mode": {
    "name": "ipython",
    "version": 2
   },
   "file_extension": ".py",
   "mimetype": "text/x-python",
   "name": "python",
   "nbconvert_exporter": "python",
   "pygments_lexer": "ipython2",
   "version": "2.7.6"
  }
 },
 "nbformat": 4,
 "nbformat_minor": 5
}
