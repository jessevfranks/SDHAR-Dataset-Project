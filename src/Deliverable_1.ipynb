{
 "cells": [
  {
   "cell_type": "code",
   "id": "initial_id",
   "metadata": {
    "collapsed": true,
    "ExecuteTime": {
     "end_time": "2025-09-28T21:41:21.803363Z",
     "start_time": "2025-09-28T21:41:21.791608Z"
    }
   },
   "source": [
    "import pandas as pd\n",
    "import os\n",
    "import sys\n",
    "\n",
    "def aggregate_data_part(base_path: str, data_part_name: str) -> pd.DataFrame:\n",
    "    \"\"\"\n",
    "    Aggregates all CSV files for a specific data part across multiple day folders.\n",
    "\n",
    "    Args:\n",
    "        base_path (str): The path to the main directory containing all 'DAY_X' folders.\n",
    "        data_part_name (str): The name of the data folder to aggregate (e.g., 'ACTIVITIES').\n",
    "\n",
    "    Returns:\n",
    "        pd.DataFrame: A single DataFrame containing all the aggregated data.\n",
    "                      Returns an empty DataFrame if no data is found.\n",
    "    \"\"\"\n",
    "    all_dataframes = []\n",
    "\n",
    "    if not os.path.isdir(base_path):\n",
    "        print(f\"Error: Base directory not found at '{base_path}'\")\n",
    "        print(\"Please ensure your directory structure is correct: project_root/data/SDHAR/\")\n",
    "        return pd.DataFrame()\n",
    "\n",
    "    day_folders = sorted([d for d in os.listdir(base_path) if d.startswith('DAY_') and os.path.isdir(os.path.join(base_path, d))])\n",
    "\n",
    "    if not day_folders:\n",
    "        print(f\"Warning: No 'DAY_X' folders found in '{base_path}'\")\n",
    "        return pd.DataFrame()\n",
    "\n",
    "    print(f\"Found {len(day_folders)} day folders. Processing...\")\n",
    "\n",
    "    for day_folder in day_folders:\n",
    "        part_path = os.path.join(base_path, day_folder, day_folder, data_part_name)\n",
    "\n",
    "        if not os.path.isdir(part_path):\n",
    "            continue\n",
    "\n",
    "        csv_files = [f for f in os.listdir(part_path) if f.lower().endswith('.csv')]\n",
    "\n",
    "        for csv_file in csv_files:\n",
    "            file_path = os.path.join(part_path, csv_file)\n",
    "            try:\n",
    "                temp_df = pd.read_csv(file_path)\n",
    "                temp_df['source_day'] = day_folder\n",
    "                temp_df['source_file'] = csv_file\n",
    "                all_dataframes.append(temp_df)\n",
    "            except Exception as e:\n",
    "                print(f\"Could not read or process file '{file_path}' because {e}\")\n",
    "\n",
    "    if not all_dataframes:\n",
    "        print(f\"No CSV files found for '{data_part_name}'.\")\n",
    "        return pd.DataFrame()\n",
    "\n",
    "    # Concatenate all dataframes into one\n",
    "    final_df = pd.concat(all_dataframes, ignore_index=True)\n",
    "    return final_df"
   ],
   "outputs": [],
   "execution_count": 11
  },
  {
   "metadata": {
    "ExecuteTime": {
     "end_time": "2025-09-28T21:41:22.163651Z",
     "start_time": "2025-09-28T21:41:21.828760Z"
    }
   },
   "cell_type": "code",
   "source": [
    "PART_TO_AGGREGATE = 'Activities'\n",
    "\n",
    "try:\n",
    "    notebook_dir = os.getcwd()\n",
    "    project_root = os.path.abspath(os.path.join(notebook_dir, '..'))\n",
    "    DATASET_BASE_DIR = os.path.join(project_root, 'data', 'SDHAR')\n",
    "\n",
    "    print(f\"Starting data aggregation for part: '{PART_TO_AGGREGATE}'\")\n",
    "    print(f\"Detected data directory: '{DATASET_BASE_DIR}'\\n\")\n",
    "\n",
    "    aggregated_df = aggregate_data_part(DATASET_BASE_DIR, PART_TO_AGGREGATE)\n",
    "\n",
    "except Exception as e:\n",
    "    print(f\"An error occurred: {e}\")\n",
    "\n",
    "\n",
    "if 'aggregated_df' in locals() and not aggregated_df.empty:\n",
    "    print(\"\\nAggregation complete!\")\n",
    "    print(f\"Shape of the final DataFrame: {aggregated_df.shape} (rows, columns)\")\n",
    "\n",
    "    print(\"\\nDataFrame Info:\")\n",
    "    aggregated_df.info()\n",
    "\n",
    "    print(\"\\nFirst 5 rows of aggregated data:\")\n",
    "    aggregated_df.head()\n",
    "\n",
    "    print(\"\\nLast 5 rows of aggregated data:\")\n",
    "    aggregated_df.tail()\n",
    "else:\n",
    "    print(\"Aggregation did not produce any data.\")"
   ],
   "id": "e110a3f47f7cb855",
   "outputs": [
    {
     "name": "stdout",
     "output_type": "stream",
     "text": [
      "Starting data aggregation for part: 'Activities'\n",
      "Detected data directory: 'C:\\Users\\jesse\\OneDrive - University of Georgia\\25-26\\Fall 2025\\Data Mining\\SDHAR\\SDHAR-Dataset-Project\\data\\SDHAR'\n",
      "\n",
      "Found 62 day folders. Processing...\n",
      "\n",
      "Aggregation complete!\n",
      "Shape of the final DataFrame: (8854, 7) (rows, columns)\n",
      "\n",
      "DataFrame Info:\n",
      "<class 'pandas.core.frame.DataFrame'>\n",
      "RangeIndex: 8854 entries, 0 to 8853\n",
      "Data columns (total 7 columns):\n",
      " #   Column                     Non-Null Count  Dtype \n",
      "---  ------                     --------------  ----- \n",
      " 0   time                       8854 non-null   object\n",
      " 1   activity_predicted_user_1  3664 non-null   object\n",
      " 2   source_day                 8854 non-null   object\n",
      " 3   source_file                8854 non-null   object\n",
      " 4   activity_predicted_user_2  2713 non-null   object\n",
      " 5   activity_user_1            1545 non-null   object\n",
      " 6   activity_user_2            932 non-null    object\n",
      "dtypes: object(7)\n",
      "memory usage: 484.3+ KB\n",
      "\n",
      "First 5 rows of aggregated data:\n",
      "\n",
      "Last 5 rows of aggregated data:\n"
     ]
    }
   ],
   "execution_count": 12
  }
 ],
 "metadata": {
  "kernelspec": {
   "display_name": "Python 3",
   "language": "python",
   "name": "python3"
  },
  "language_info": {
   "codemirror_mode": {
    "name": "ipython",
    "version": 2
   },
   "file_extension": ".py",
   "mimetype": "text/x-python",
   "name": "python",
   "nbconvert_exporter": "python",
   "pygments_lexer": "ipython2",
   "version": "2.7.6"
  }
 },
 "nbformat": 4,
 "nbformat_minor": 5
}
